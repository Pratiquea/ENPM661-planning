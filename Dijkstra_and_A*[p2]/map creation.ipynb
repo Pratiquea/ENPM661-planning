{
 "cells": [
  {
   "cell_type": "code",
   "execution_count": 1,
   "metadata": {},
   "outputs": [],
   "source": [
    "import numpy as np\n",
    "import cv2\n",
    "import glob\n",
    "import random\n",
    "import matplotlib.pyplot as plt\n",
    "import time\n",
    "import math\n",
    "import copy\n",
    "import heapq"
   ]
  },
  {
   "cell_type": "code",
   "execution_count": 2,
   "metadata": {},
   "outputs": [],
   "source": [
    "resolution = 1\n",
    "length = 250\n",
    "breadth = 150\n",
    "map = np.zeros((breadth,length))\n",
    "# plt.imshow(map,cmap='binary')"
   ]
  },
  {
   "cell_type": "code",
   "execution_count": 3,
   "metadata": {},
   "outputs": [],
   "source": [
    "# x = list(range(0,length))\n",
    "# y = list(range(0,breadth))\n",
    "# y-5\n",
    "\n",
    "def inside_rect(x,y,pad):\n",
    "    if(not pad):\n",
    "        if(y-112.5<=0 and x-100<=0 and -y+67.5<=0 and -x+50<=0):\n",
    "            return True\n",
    "        else:\n",
    "            return False\n",
    "    else:\n",
    "        if(y-117.5<=0 and x-105<=0 and -y+62.5<=0 and -x+45<=0):\n",
    "            return True\n",
    "        else:\n",
    "            return False"
   ]
  },
  {
   "cell_type": "code",
   "execution_count": 4,
   "metadata": {},
   "outputs": [],
   "source": [
    "def inside_circle(x,y,pad):\n",
    "    if(not pad):\n",
    "        if((x-190)**2+(y-130)**2-15**2<=0):\n",
    "            return True\n",
    "        else:\n",
    "            return False\n",
    "    else:\n",
    "        if((x-190)**2+(y-130)**2-20**2<=0):\n",
    "            return True\n",
    "        else:\n",
    "            return False"
   ]
  },
  {
   "cell_type": "code",
   "execution_count": 5,
   "metadata": {},
   "outputs": [],
   "source": [
    "def inside_ellipse(x,y,pad):\n",
    "    if(not pad):\n",
    "        if((x-140)**2*(6**2)+(y-120)**2*(15**2)-(15**2)*(6**2)<=0):\n",
    "            return True\n",
    "        else:\n",
    "            return False\n",
    "    else:\n",
    "        if((x-140)**2*(11**2)+(y-120)**2*(20**2)-(20**2)*(11**2)<=0):\n",
    "            return True\n",
    "        else:\n",
    "            return False"
   ]
  },
  {
   "cell_type": "code",
   "execution_count": 6,
   "metadata": {},
   "outputs": [],
   "source": [
    "def inside_poly(x,y,pad):\n",
    "    if(not pad):\n",
    "        if(-41*x-25*y+6525<=0 and 38*x+23*y-8530<=0 and 37*x-20*y-6101<=0 and -y+15<=0 and (4*x+38*y-2628<=0 or -38*x+7*y+5830<=0)):\n",
    "            return True\n",
    "        else:\n",
    "            return False\n",
    "    else:\n",
    "        if(-41*x-25*y+6284.9<=0 and 38*x+23*y-8752.09<=0 and 37*x-20*y-6311.29<=0 and -y+10<=0 and (4*x+38*y-2819.05<=0 or -38*x+7*y+5636.8<=0)):\n",
    "\n",
    "            return True\n",
    "        else:\n",
    "            return False"
   ]
  },
  {
   "cell_type": "code",
   "execution_count": 7,
   "metadata": {
    "scrolled": true
   },
   "outputs": [],
   "source": [
    "pad= False\n",
    "for i in range(0,breadth):\n",
    "    for j in range(0,length):\n",
    "        if(inside_rect(j,i,pad) or inside_circle(j,i,pad) or inside_ellipse(j,i,pad) or inside_poly(j,i,pad)):\n",
    "            map[i][j]=1\n",
    "\n",
    "# plt.imshow(map,cmap='binary')\n",
    "plt.rcParams[\"figure.figsize\"] = (10,10)\n"
   ]
  },
  {
   "cell_type": "code",
   "execution_count": 8,
   "metadata": {},
   "outputs": [
    {
     "data": {
      "text/plain": [
       "<matplotlib.image.AxesImage at 0x7fb47fbbff50>"
      ]
     },
     "execution_count": 8,
     "metadata": {},
     "output_type": "execute_result"
    },
    {
     "data": {
      "image/png": "[encoded data removed]",
      "text/plain": [
       "<Figure size 720x720 with 1 Axes>"
      ]
     },
     "metadata": {
      "needs_background": "light"
     },
     "output_type": "display_data"
    }
   ],
   "source": [
    "horizontal_img = cv2.flip(map.copy(), 0 )\n",
    "plt.imshow(horizontal_img,cmap='binary')"
   ]
  },
  {
   "cell_type": "code",
   "execution_count": 9,
   "metadata": {},
   "outputs": [],
   "source": [
    "pad= True\n",
    "for i in range(0,breadth):\n",
    "    for j in range(0,length):\n",
    "        if(inside_rect(j,i,pad) or inside_circle(j,i,pad) or inside_ellipse(j,i,pad) or inside_poly(j,i,pad)):\n",
    "            map[i][j]=1\n",
    "\n",
    "# plt.imshow(map,cmap='binary')\n",
    "# plt.rcParams[\"figure.figsize\"] = (20,20)"
   ]
  },
  {
   "cell_type": "code",
   "execution_count": 10,
   "metadata": {},
   "outputs": [
    {
     "data": {
      "text/plain": [
       "<matplotlib.image.AxesImage at 0x7fb47faf5910>"
      ]
     },
     "execution_count": 10,
     "metadata": {},
     "output_type": "execute_result"
    },
    {
     "data": {
      "image/png": "[encoded data removed]",
      "text/plain": [
       "<Figure size 720x720 with 1 Axes>"
      ]
     },
     "metadata": {
      "needs_background": "light"
     },
     "output_type": "display_data"
    }
   ],
   "source": [
    "horizontal_img = cv2.flip(map.copy(), 0 )\n",
    "plt.imshow(horizontal_img,cmap='binary')"
   ]
  },
  {
   "cell_type": "code",
   "execution_count": 11,
   "metadata": {},
   "outputs": [
    {
     "data": {
      "text/plain": [
       "(array([[  0,   1,   2, ..., 247, 248, 249],\n",
       "        [  0,   1,   2, ..., 247, 248, 249],\n",
       "        [  0,   1,   2, ..., 247, 248, 249],\n",
       "        ...,\n",
       "        [  0,   1,   2, ..., 247, 248, 249],\n",
       "        [  0,   1,   2, ..., 247, 248, 249],\n",
       "        [  0,   1,   2, ..., 247, 248, 249]]),\n",
       " (150, 250),\n",
       " array([[  0,   0,   0, ...,   0,   0,   0],\n",
       "        [  1,   1,   1, ...,   1,   1,   1],\n",
       "        [  2,   2,   2, ...,   2,   2,   2],\n",
       "        ...,\n",
       "        [147, 147, 147, ..., 147, 147, 147],\n",
       "        [148, 148, 148, ..., 148, 148, 148],\n",
       "        [149, 149, 149, ..., 149, 149, 149]]),\n",
       " (150, 250))"
      ]
     },
     "execution_count": 11,
     "metadata": {},
     "output_type": "execute_result"
    }
   ],
   "source": [
    "xmin = 0\n",
    "xmax = length\n",
    "ymin = 0\n",
    "ymax = breadth\n",
    "Y, X = np.mgrid[ymin:ymax, xmin:xmax]\n",
    "locations=np.vstack((X.ravel(), Y.ravel()))\n",
    "# print(locations)\n",
    "# plt.imshow(locations)\n",
    "# print(locations)\n",
    "X,np.shape(X),Y,np.shape(Y)\n"
   ]
  },
  {
   "cell_type": "code",
   "execution_count": 12,
   "metadata": {},
   "outputs": [],
   "source": [
    "def generate_map(breadth,length,pad):\n",
    "    map = np.zeros((breadth,length))\n",
    "    for i in range(0,breadth):\n",
    "        for j in range(0,length):\n",
    "            if(inside_rect(j,i,pad) or inside_circle(j,i,pad) or inside_ellipse(j,i,pad) or inside_poly(j,i,pad)):\n",
    "                map[i][j]=1\n",
    "    map = cv2.flip(map.copy(), 0 )\n",
    "    return map\n",
    "    "
   ]
  },
  {
   "cell_type": "code",
   "execution_count": 13,
   "metadata": {},
   "outputs": [
    {
     "data": {
      "text/plain": [
       "<matplotlib.image.AxesImage at 0x7fb47fa7d1d0>"
      ]
     },
     "execution_count": 13,
     "metadata": {},
     "output_type": "execute_result"
    },
    {
     "data": {
      "image/png": "[encoded data removed]",
      "text/plain": [
       "<Figure size 720x720 with 1 Axes>"
      ]
     },
     "metadata": {
      "needs_background": "light"
     },
     "output_type": "display_data"
    }
   ],
   "source": [
    "b_map = generate_map(breadth,length,True)\n",
    "plt.imshow(b_map,cmap='binary')"
   ]
  },
  {
   "cell_type": "code",
   "execution_count": 14,
   "metadata": {},
   "outputs": [],
   "source": [
    "dy = [-1,1,0,0,-1,1,-1,1]\n",
    "dx = [0,0,-1,1,-1,-1,1,1]\n"
   ]
  },
  {
   "cell_type": "code",
   "execution_count": 15,
   "metadata": {},
   "outputs": [
    {
     "name": "stdout",
     "output_type": "stream",
     "text": [
      "false\n"
     ]
    }
   ],
   "source": [
    "if(dy[2] and dx[2]):\n",
    "    print('true')\n",
    "else:\n",
    "    print('false')"
   ]
  },
  {
   "cell_type": "code",
   "execution_count": 16,
   "metadata": {},
   "outputs": [
    {
     "data": {
      "text/plain": [
       "1.0"
      ]
     },
     "execution_count": 16,
     "metadata": {},
     "output_type": "execute_result"
    }
   ],
   "source": [
    "b_map[60][55]"
   ]
  },
  {
   "cell_type": "code",
   "execution_count": 17,
   "metadata": {},
   "outputs": [],
   "source": [
    "class node:\n",
    "    def __init__(self,name,loc,parent_name = None,cost = float(\"inf\")):\n",
    "        self.name = name\n",
    "        self.loc = loc\n",
    "        self.parent_name = parent_name\n",
    "        self.cost = cost\n",
    "#     def get_cost(self):\n",
    "#         return self.cost"
   ]
  },
  {
   "cell_type": "code",
   "execution_count": 18,
   "metadata": {},
   "outputs": [
    {
     "name": "stdout",
     "output_type": "stream",
     "text": [
      "0.0\n",
      "(20, 59)\n",
      "0.0\n",
      "(20, 61)\n",
      "0.0\n",
      "(19, 60)\n",
      "0.0\n",
      "(21, 60)\n",
      "0.0\n",
      "(19, 59)\n",
      "0.0\n",
      "(19, 61)\n",
      "0.0\n",
      "(21, 59)\n",
      "0.0\n",
      "(21, 61)\n"
     ]
    }
   ],
   "source": [
    "x = 20\n",
    "y = 60\n",
    "for i in range(0,8):\n",
    "    new_x = x+dx[i]\n",
    "    new_y = y+dy[i]\n",
    "    print(b_map[new_y][new_x])\n",
    "    if(new_x<0 or new_y<0 or new_x>=length or new_y>=breadth or b_map[new_y][new_x]):\n",
    "        continue\n",
    "    print(new_x,new_y)\n",
    "        "
   ]
  },
  {
   "cell_type": "code",
   "execution_count": 19,
   "metadata": {},
   "outputs": [
    {
     "data": {
      "text/plain": [
       "(inf, 1, None, (0, 0))"
      ]
     },
     "execution_count": 19,
     "metadata": {},
     "output_type": "execute_result"
    }
   ],
   "source": [
    "p1=node(1,(0,0))\n",
    "p1.cost, p1.name, p1.parent_name,p1.loc"
   ]
  },
  {
   "cell_type": "code",
   "execution_count": 20,
   "metadata": {},
   "outputs": [
    {
     "data": {
      "text/plain": [
       "(inf, 1, 2)"
      ]
     },
     "execution_count": 20,
     "metadata": {},
     "output_type": "execute_result"
    }
   ],
   "source": [
    "p1.parent_name = 2\n",
    "p1.cost, p1.name, p1.parent_name"
   ]
  },
  {
   "cell_type": "code",
   "execution_count": 21,
   "metadata": {},
   "outputs": [],
   "source": [
    "############################ USE\n",
    "node_map = []\n",
    "# node location formula = i*length+j  ; i = row, j=col\n",
    "for i in range(0,breadth):\n",
    "    for j in range(0,length):\n",
    "        node_map.append(node(i*length+j+1,(i,j)))\n"
   ]
  },
  {
   "cell_type": "code",
   "execution_count": 22,
   "metadata": {},
   "outputs": [
    {
     "data": {
      "text/plain": [
       "(inf, 561, None, (2, 60))"
      ]
     },
     "execution_count": 22,
     "metadata": {},
     "output_type": "execute_result"
    }
   ],
   "source": [
    "m=560\n",
    "node_map[m].cost, node_map[m].name, node_map[m].parent_name,node_map[m].loc\n"
   ]
  },
  {
   "cell_type": "code",
   "execution_count": 23,
   "metadata": {},
   "outputs": [
    {
     "name": "stdout",
     "output_type": "stream",
     "text": [
      "Goal state is invalid\n"
     ]
    }
   ],
   "source": [
    "start = [0,0]\n",
    "goal = [60,60]\n",
    "visited_nodes = np.zeros_like(b_map)\n",
    "# print(visited_nodes, np.min(visited_nodes)) \n",
    "# checking validity of start and goal \n",
    "if(b_map[start[0]][start[1]]):\n",
    "    print('Start state is invalid')\n",
    "#     return\n",
    "elif(b_map[goal[0]][goal[1]]):\n",
    "    print('Goal state is invalid')\n",
    "#     return\n",
    "\n",
    "\n"
   ]
  },
  {
   "cell_type": "code",
   "execution_count": 24,
   "metadata": {},
   "outputs": [],
   "source": [
    "diagonal_cost = 14\n",
    "straight_cost = 10\n",
    "def cal_cost_to_come(node, dx, dy):\n",
    "    if(dy and dx):\n",
    "        #diagonal\n",
    "        return node.cost + diagonal_cost\n",
    "    else:\n",
    "        #straight path i.e. left, right, top, bottom\n",
    "        return node.cost + straight_cost"
   ]
  },
  {
   "cell_type": "code",
   "execution_count": 25,
   "metadata": {},
   "outputs": [],
   "source": [
    "def explore_neighbours(r,c,Q):\n",
    "    for i in range(0,8):\n",
    "        new_c = c+dx[i]\n",
    "        new_r = r+dy[i]\n",
    "\n",
    "        #check if the new location is within bounds\n",
    "        if(new_c<0 or new_r<0 or new_c>=length or new_r>=breadth):\n",
    "            continue\n",
    "\n",
    "        #check if state is valid i.e not an obstacle\n",
    "        if(b_map[new_r][new_c]):\n",
    "            continue\n",
    "\n",
    "        #check is the node is visited\n",
    "        if(visited_nodes[new_r][new_c]):\n",
    "            continue\n",
    "\n",
    "        new_index = new_r*length+new_c\n",
    "        index = r*length+c\n",
    "        \n",
    "        #calculate cost to come for newly generated node\n",
    "        curr_cost = cal_cost_to_come(node_map[index], dx[i], dy[i])\n",
    "        \n",
    "        if(curr_cost<node_map[new_index].cost):\n",
    "            #update cost of new node\n",
    "            node_map[new_index].cost = curr_cost\n",
    "            #update parent(name) of new node\n",
    "            node_map[new_index].parent_name = node_map[index].name\n",
    "            #add current node to heap\n",
    "            heapq.heappush(Q,(node_map[new_index].cost, node_map[new_index].name, node_map[new_index]))\n",
    "    visited_nodes[r][c] = 1\n",
    "    return Q"
   ]
  },
  {
   "cell_type": "code",
   "execution_count": 26,
   "metadata": {},
   "outputs": [],
   "source": [
    "def Dijkstra():\n",
    "    Q = []\n",
    "    heapq.heapify(Q) \n",
    "    # if not list(Q):\n",
    "    #     print('empty2')\n",
    "    index = start[0]*length+start[1]\n",
    "    node_map[index].cost = 0\n",
    "    heapq.heappush(Q,(node_map[index].cost, node_map[index].name, node_map[index]))\n",
    "    while(list(Q)):\n",
    "        current_node = heapq.heappop(Q)\n",
    "        #print(current_node[0],current_node[1],current_node[2])\n",
    "        curr_r = current_node[2].loc[0]\n",
    "        curr_c = current_node[2].loc[1]\n",
    "        #check node for duplicity in heap\n",
    "        if(visited_nodes[curr_r][curr_c]):\n",
    "            continue\n",
    "        #check if the goal is reached\n",
    "        if(curr_r == goal[0] and curr_c == goal[1]):\n",
    "            print('success')\n",
    "            return 'Success'\n",
    "\n",
    "        #update heap after exploring neighbours\n",
    "        Q = explore_neighbours(curr_r,curr_c,Q)\n",
    "    return 'Failure'\n"
   ]
  },
  {
   "cell_type": "code",
   "execution_count": 27,
   "metadata": {},
   "outputs": [
    {
     "ename": "NameError",
     "evalue": "name 'current_node' is not defined",
     "output_type": "error",
     "traceback": [
      "\u001b[0;31m---------------------------------------------------------------------------\u001b[0m",
      "\u001b[0;31mNameError\u001b[0m                                 Traceback (most recent call last)",
      "\u001b[0;32m<ipython-input-27-b3d4f3a0b2f8>\u001b[0m in \u001b[0;36m<module>\u001b[0;34m()\u001b[0m\n\u001b[0;32m----> 1\u001b[0;31m \u001b[0mcurrent_node\u001b[0m\u001b[0;34m[\u001b[0m\u001b[0;36m2\u001b[0m\u001b[0;34m]\u001b[0m\u001b[0;34m.\u001b[0m\u001b[0mloc\u001b[0m\u001b[0;34m[\u001b[0m\u001b[0;36m0\u001b[0m\u001b[0;34m]\u001b[0m\u001b[0;34m\u001b[0m\u001b[0m\n\u001b[0m",
      "\u001b[0;31mNameError\u001b[0m: name 'current_node' is not defined"
     ]
    }
   ],
   "source": [
    "current_node[2].loc[0]"
   ]
  },
  {
   "cell_type": "code",
   "execution_count": 28,
   "metadata": {},
   "outputs": [
    {
     "data": {
      "text/plain": [
       "inf"
      ]
     },
     "execution_count": 28,
     "metadata": {},
     "output_type": "execute_result"
    }
   ],
   "source": [
    "node_map[0].cost"
   ]
  },
  {
   "cell_type": "code",
   "execution_count": 29,
   "metadata": {},
   "outputs": [
    {
     "name": "stdout",
     "output_type": "stream",
     "text": [
      "('init cost ', 0)\n"
     ]
    }
   ],
   "source": [
    "li = []\n",
    "node_map[0].cost = 0\n",
    "heapq.heapify(li)\n",
    "\n",
    "print('init cost ', node_map[0].cost)\n",
    "heapq.heappush(li,(node_map[0].cost, node_map[0].name, node_map[0]))\n",
    "node_map[0].cost = 3\n"
   ]
  },
  {
   "cell_type": "code",
   "execution_count": 30,
   "metadata": {},
   "outputs": [
    {
     "data": {
      "text/plain": [
       "[(0, 1, <__main__.node instance at 0x7fb47fb427a0>)]"
      ]
     },
     "execution_count": 30,
     "metadata": {},
     "output_type": "execute_result"
    }
   ],
   "source": [
    "li"
   ]
  },
  {
   "cell_type": "code",
   "execution_count": 31,
   "metadata": {},
   "outputs": [
    {
     "data": {
      "text/plain": [
       "(0, 3)"
      ]
     },
     "execution_count": 31,
     "metadata": {},
     "output_type": "execute_result"
    }
   ],
   "source": [
    "dummy = heapq.heappop(li)\n",
    "dummy[0],dummy[2].cost"
   ]
  },
  {
   "cell_type": "code",
   "execution_count": 32,
   "metadata": {},
   "outputs": [
    {
     "name": "stdout",
     "output_type": "stream",
     "text": [
      "[(1, 9), (2, 8), (3, 7), (4, 6)]\n"
     ]
    },
    {
     "data": {
      "text/plain": [
       "[(2, 8), (4, 6), (3, 7)]"
      ]
     },
     "execution_count": 32,
     "metadata": {},
     "output_type": "execute_result"
    }
   ],
   "source": [
    "ab = [(1,9),(2,8),(3,7),(4,6)]\n",
    "heapq.heapify(ab)\n",
    "print(ab)\n",
    "try:\n",
    "    i = ab.index((1,9))\n",
    "    ab[i] = ab[-1]\n",
    "    ab.pop()\n",
    "    heapq.heapify(ab)\n",
    "except ValueError:\n",
    "    print('add new element')\n",
    "ab"
   ]
  },
  {
   "cell_type": "code",
   "execution_count": 33,
   "metadata": {},
   "outputs": [
    {
     "data": {
      "text/plain": [
       "True"
      ]
     },
     "execution_count": 33,
     "metadata": {},
     "output_type": "execute_result"
    }
   ],
   "source": [
    "tuple([1,2])==(1,2)"
   ]
  },
  {
   "cell_type": "code",
   "execution_count": 34,
   "metadata": {},
   "outputs": [
    {
     "data": {
      "text/plain": [
       "[1]"
      ]
     },
     "execution_count": 34,
     "metadata": {},
     "output_type": "execute_result"
    }
   ],
   "source": [
    "lol = []\n",
    "lol.append(1)\n",
    "lol"
   ]
  },
  {
   "cell_type": "code",
   "execution_count": 35,
   "metadata": {},
   "outputs": [
    {
     "data": {
      "text/plain": [
       "array([1, 2])"
      ]
     },
     "execution_count": 35,
     "metadata": {},
     "output_type": "execute_result"
    }
   ],
   "source": [
    "np.array((1,2))"
   ]
  },
  {
   "cell_type": "code",
   "execution_count": 36,
   "metadata": {},
   "outputs": [
    {
     "data": {
      "text/plain": [
       "<matplotlib.image.AxesImage at 0x7fb47e9a60d0>"
      ]
     },
     "execution_count": 36,
     "metadata": {},
     "output_type": "execute_result"
    },
    {
     "data": {
      "image/png": "[encoded data removed]",
      "text/plain": [
       "<Figure size 720x720 with 1 Axes>"
      ]
     },
     "metadata": {
      "needs_background": "light"
     },
     "output_type": "display_data"
    }
   ],
   "source": [
    "temp = copy.deepcopy(b_map)\n",
    "temp[temp==0]=255\n",
    "temp = np.asarray(temp,dtype=int)\n",
    "visual_b_map = temp\n",
    "visual_b_map = np.dstack((visual_b_map,temp,temp))\n",
    "np.shape(visual_b_map)\n",
    "\n",
    "visual_b_map[start[0]][start[1]] = [255,0,0]\n",
    "visual_b_map[goal[0]][goal[1]] = [100,255,0]\n",
    "plt.imshow(visual_b_map)"
   ]
  },
  {
   "cell_type": "code",
   "execution_count": 37,
   "metadata": {},
   "outputs": [
    {
     "data": {
      "text/plain": [
       "array([255,   0,   0])"
      ]
     },
     "execution_count": 37,
     "metadata": {},
     "output_type": "execute_result"
    }
   ],
   "source": [
    "visual_b_map[0][0]"
   ]
  },
  {
   "cell_type": "code",
   "execution_count": 38,
   "metadata": {},
   "outputs": [],
   "source": [
    "# 0-255-255 - cyan"
   ]
  },
  {
   "cell_type": "code",
   "execution_count": 344,
   "metadata": {},
   "outputs": [
    {
     "data": {
      "text/plain": [
       "3"
      ]
     },
     "execution_count": 344,
     "metadata": {},
     "output_type": "execute_result"
    }
   ],
   "source": [
    "max(2-1,5-2)"
   ]
  },
  {
   "cell_type": "code",
   "execution_count": 345,
   "metadata": {},
   "outputs": [
    {
     "data": {
      "text/plain": [
       "'rthhjh'"
      ]
     },
     "execution_count": 345,
     "metadata": {},
     "output_type": "execute_result"
    }
   ],
   "source": [
    "a = 'RTHhJH'\n",
    "a.lower()"
   ]
  },
  {
   "cell_type": "code",
   "execution_count": 41,
   "metadata": {},
   "outputs": [
    {
     "data": {
      "text/plain": [
       "[1, 5]"
      ]
     },
     "execution_count": 41,
     "metadata": {},
     "output_type": "execute_result"
    }
   ],
   "source": [
    "start = [1,5]\n",
    "start"
   ]
  },
  {
   "cell_type": "code",
   "execution_count": 42,
   "metadata": {},
   "outputs": [
    {
     "data": {
      "text/plain": [
       "[5, 1]"
      ]
     },
     "execution_count": 42,
     "metadata": {},
     "output_type": "execute_result"
    }
   ],
   "source": [
    "start[0],start[1] = start[1],start[0]\n",
    "start"
   ]
  },
  {
   "cell_type": "code",
   "execution_count": 44,
   "metadata": {},
   "outputs": [
    {
     "data": {
      "text/plain": [
       "array([2, 0])"
      ]
     },
     "execution_count": 44,
     "metadata": {},
     "output_type": "execute_result"
    }
   ],
   "source": [
    "start= np.divide(start,2)\n",
    "\n",
    "start\n"
   ]
  },
  {
   "cell_type": "code",
   "execution_count": null,
   "metadata": {},
   "outputs": [],
   "source": []
  }
 ],
 "metadata": {
  "kernelspec": {
   "display_name": "Python 2",
   "language": "python",
   "name": "python2"
  },
  "language_info": {
   "codemirror_mode": {
    "name": "ipython",
    "version": 2
   },
   "file_extension": ".py",
   "mimetype": "text/x-python",
   "name": "python",
   "nbconvert_exporter": "python",
   "pygments_lexer": "ipython2",
   "version": "2.7.12"
  }
 },
 "nbformat": 4,
 "nbformat_minor": 2
}
